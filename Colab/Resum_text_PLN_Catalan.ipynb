{
  "nbformat": 4,
  "nbformat_minor": 0,
  "metadata": {
    "colab": {
      "provenance": []
    },
    "kernelspec": {
      "name": "python3",
      "display_name": "Python 3"
    },
    "language_info": {
      "name": "python"
    }
  },
  "cells": [
    {
      "cell_type": "markdown",
      "source": [
        "# Generador de resúmenes automático.\n",
        "Se ha implementado para el idioma Catalán."
      ],
      "metadata": {
        "id": "JO3r621qM74q"
      }
    },
    {
      "cell_type": "code",
      "execution_count": 18,
      "metadata": {
        "colab": {
          "base_uri": "https://localhost:8080/"
        },
        "id": "ac9lE2lUJvkL",
        "outputId": "d2d52d16-eb8c-4e84-b40f-561acfc79c46"
      },
      "outputs": [
        {
          "output_type": "stream",
          "name": "stdout",
          "text": [
            "2023-05-08 16:40:51.729032: W tensorflow/compiler/tf2tensorrt/utils/py_utils.cc:38] TF-TRT Warning: Could not find TensorRT\n",
            "Looking in indexes: https://pypi.org/simple, https://us-python.pkg.dev/colab-wheels/public/simple/\n",
            "Collecting ca-core-news-sm==3.5.0\n",
            "  Downloading https://github.com/explosion/spacy-models/releases/download/ca_core_news_sm-3.5.0/ca_core_news_sm-3.5.0-py3-none-any.whl (19.6 MB)\n",
            "\u001b[2K     \u001b[90m━━━━━━━━━━━━━━━━━━━━━━━━━━━━━━━━━━━━━━━━\u001b[0m \u001b[32m19.6/19.6 MB\u001b[0m \u001b[31m31.0 MB/s\u001b[0m eta \u001b[36m0:00:00\u001b[0m\n",
            "\u001b[?25hRequirement already satisfied: spacy<3.6.0,>=3.5.0 in /usr/local/lib/python3.10/dist-packages (from ca-core-news-sm==3.5.0) (3.5.2)\n",
            "Requirement already satisfied: setuptools in /usr/local/lib/python3.10/dist-packages (from spacy<3.6.0,>=3.5.0->ca-core-news-sm==3.5.0) (67.7.2)\n",
            "Requirement already satisfied: pathy>=0.10.0 in /usr/local/lib/python3.10/dist-packages (from spacy<3.6.0,>=3.5.0->ca-core-news-sm==3.5.0) (0.10.1)\n",
            "Requirement already satisfied: jinja2 in /usr/local/lib/python3.10/dist-packages (from spacy<3.6.0,>=3.5.0->ca-core-news-sm==3.5.0) (3.1.2)\n",
            "Requirement already satisfied: packaging>=20.0 in /usr/local/lib/python3.10/dist-packages (from spacy<3.6.0,>=3.5.0->ca-core-news-sm==3.5.0) (23.1)\n",
            "Requirement already satisfied: thinc<8.2.0,>=8.1.8 in /usr/local/lib/python3.10/dist-packages (from spacy<3.6.0,>=3.5.0->ca-core-news-sm==3.5.0) (8.1.9)\n",
            "Requirement already satisfied: langcodes<4.0.0,>=3.2.0 in /usr/local/lib/python3.10/dist-packages (from spacy<3.6.0,>=3.5.0->ca-core-news-sm==3.5.0) (3.3.0)\n",
            "Requirement already satisfied: preshed<3.1.0,>=3.0.2 in /usr/local/lib/python3.10/dist-packages (from spacy<3.6.0,>=3.5.0->ca-core-news-sm==3.5.0) (3.0.8)\n",
            "Requirement already satisfied: catalogue<2.1.0,>=2.0.6 in /usr/local/lib/python3.10/dist-packages (from spacy<3.6.0,>=3.5.0->ca-core-news-sm==3.5.0) (2.0.8)\n",
            "Requirement already satisfied: requests<3.0.0,>=2.13.0 in /usr/local/lib/python3.10/dist-packages (from spacy<3.6.0,>=3.5.0->ca-core-news-sm==3.5.0) (2.27.1)\n",
            "Requirement already satisfied: srsly<3.0.0,>=2.4.3 in /usr/local/lib/python3.10/dist-packages (from spacy<3.6.0,>=3.5.0->ca-core-news-sm==3.5.0) (2.4.6)\n",
            "Requirement already satisfied: typer<0.8.0,>=0.3.0 in /usr/local/lib/python3.10/dist-packages (from spacy<3.6.0,>=3.5.0->ca-core-news-sm==3.5.0) (0.7.0)\n",
            "Requirement already satisfied: cymem<2.1.0,>=2.0.2 in /usr/local/lib/python3.10/dist-packages (from spacy<3.6.0,>=3.5.0->ca-core-news-sm==3.5.0) (2.0.7)\n",
            "Requirement already satisfied: tqdm<5.0.0,>=4.38.0 in /usr/local/lib/python3.10/dist-packages (from spacy<3.6.0,>=3.5.0->ca-core-news-sm==3.5.0) (4.65.0)\n",
            "Requirement already satisfied: murmurhash<1.1.0,>=0.28.0 in /usr/local/lib/python3.10/dist-packages (from spacy<3.6.0,>=3.5.0->ca-core-news-sm==3.5.0) (1.0.9)\n",
            "Requirement already satisfied: spacy-legacy<3.1.0,>=3.0.11 in /usr/local/lib/python3.10/dist-packages (from spacy<3.6.0,>=3.5.0->ca-core-news-sm==3.5.0) (3.0.12)\n",
            "Requirement already satisfied: wasabi<1.2.0,>=0.9.1 in /usr/local/lib/python3.10/dist-packages (from spacy<3.6.0,>=3.5.0->ca-core-news-sm==3.5.0) (1.1.1)\n",
            "Requirement already satisfied: pydantic!=1.8,!=1.8.1,<1.11.0,>=1.7.4 in /usr/local/lib/python3.10/dist-packages (from spacy<3.6.0,>=3.5.0->ca-core-news-sm==3.5.0) (1.10.7)\n",
            "Requirement already satisfied: spacy-loggers<2.0.0,>=1.0.0 in /usr/local/lib/python3.10/dist-packages (from spacy<3.6.0,>=3.5.0->ca-core-news-sm==3.5.0) (1.0.4)\n",
            "Requirement already satisfied: numpy>=1.15.0 in /usr/local/lib/python3.10/dist-packages (from spacy<3.6.0,>=3.5.0->ca-core-news-sm==3.5.0) (1.22.4)\n",
            "Requirement already satisfied: smart-open<7.0.0,>=5.2.1 in /usr/local/lib/python3.10/dist-packages (from spacy<3.6.0,>=3.5.0->ca-core-news-sm==3.5.0) (6.3.0)\n",
            "Requirement already satisfied: typing-extensions>=4.2.0 in /usr/local/lib/python3.10/dist-packages (from pydantic!=1.8,!=1.8.1,<1.11.0,>=1.7.4->spacy<3.6.0,>=3.5.0->ca-core-news-sm==3.5.0) (4.5.0)\n",
            "Requirement already satisfied: idna<4,>=2.5 in /usr/local/lib/python3.10/dist-packages (from requests<3.0.0,>=2.13.0->spacy<3.6.0,>=3.5.0->ca-core-news-sm==3.5.0) (3.4)\n",
            "Requirement already satisfied: urllib3<1.27,>=1.21.1 in /usr/local/lib/python3.10/dist-packages (from requests<3.0.0,>=2.13.0->spacy<3.6.0,>=3.5.0->ca-core-news-sm==3.5.0) (1.26.15)\n",
            "Requirement already satisfied: charset-normalizer~=2.0.0 in /usr/local/lib/python3.10/dist-packages (from requests<3.0.0,>=2.13.0->spacy<3.6.0,>=3.5.0->ca-core-news-sm==3.5.0) (2.0.12)\n",
            "Requirement already satisfied: certifi>=2017.4.17 in /usr/local/lib/python3.10/dist-packages (from requests<3.0.0,>=2.13.0->spacy<3.6.0,>=3.5.0->ca-core-news-sm==3.5.0) (2022.12.7)\n",
            "Requirement already satisfied: confection<1.0.0,>=0.0.1 in /usr/local/lib/python3.10/dist-packages (from thinc<8.2.0,>=8.1.8->spacy<3.6.0,>=3.5.0->ca-core-news-sm==3.5.0) (0.0.4)\n",
            "Requirement already satisfied: blis<0.8.0,>=0.7.8 in /usr/local/lib/python3.10/dist-packages (from thinc<8.2.0,>=8.1.8->spacy<3.6.0,>=3.5.0->ca-core-news-sm==3.5.0) (0.7.9)\n",
            "Requirement already satisfied: click<9.0.0,>=7.1.1 in /usr/local/lib/python3.10/dist-packages (from typer<0.8.0,>=0.3.0->spacy<3.6.0,>=3.5.0->ca-core-news-sm==3.5.0) (8.1.3)\n",
            "Requirement already satisfied: MarkupSafe>=2.0 in /usr/local/lib/python3.10/dist-packages (from jinja2->spacy<3.6.0,>=3.5.0->ca-core-news-sm==3.5.0) (2.1.2)\n",
            "\u001b[38;5;2m✔ Download and installation successful\u001b[0m\n",
            "You can now load the package via spacy.load('ca_core_news_sm')\n",
            "{'dins', \"l'hi\", 'pas', 'fas', \"n'he\", 'estem', 'hem', 'oh', 'tots', 'fi', 'son', 'ús', 'poc', 'fem', 'ses', 'estat', 'semblant', 'soc', 'sols', \"d'uns\", 'poca', 'que', \"d'una\", 'baix', 'estic', 'li', 'solament', 'ja', 'primer', 'nostre', 'quant', 'tot', 'mateixa', \"n'hi\", 'sobretot', 'de', 'ets', 'ans', 'sabeu', 'vostra', 'fa', 'et', 'tenim', \"s'ha\", 'sóc', 'però', 'qual', 'tantes', 'fer', 'cadascú', \"m'he\", 'propi', 'consegueixo', 'altre', 'més', 'estaven', 'us', 'en', 'saber', 'entre', 'apa', 'aquí', 'dels', 'igual', 'anar', 'algun', 'seves', 'gairebé', 'estàveu', 'mon', 'saps', 'poder', 'alhora', 'mentre', 'inclòs', 'quelcom', 'quin', 'vam', 'i', 'has', 'aquests', 'e', 'tota', 'nostra', 'haver', 'puc', 'sobre', 'aquestes', 'ambdues', 'això', 'nogensmenys', 'allà', 'ací', 'éssent', 'per que', 'ah', 'mal', 'quins', \"t'ha\", 'aquest', 'aquesta', 'les', 'com', 'teus', 'meva', \"t'han\", 'els', 'fan', 'així', 'al', 'està', 'llavors', 'tant', 'consigueixes', 'pocs', 'estàvem', 'ni', 'vostres', 'últim', 'molts', 'alguns', 'altra', 'havia', 'des', 'també', 'vosaltres', 'aquell', 'potser', 'he', 'quan', 'te', 'ne', 'teva', 'poques', 'algunes', 'hi', 'mateixes', 'pel', 'quina', 'sense', 'esta', 'va', 'van', 'érem', 'només', 'doncs', 'vaig', 'cadascuns', 'llarg', 'meu', 'me', 'fins', 'malgrat', 'tal', 'tenir', 'sou', 'consigueix', 'veu', 'ens', 'han', \"d'un\", 'altres', 'mons', 'seu', 'saben', 'seus', \"t'he\", \"li'n\", 'etc', 'quals', 'tan', 'contra', 'consigueixen', 'encara', 'molta', 'ma', 'teniu', 'meus', 'dalt', 'des de', 'som', 'mode', 'vas', 'a', 'si', 'totes', 'és', 'la', 'sa', 'heu', 'teves', 'bé', 'tanta', 'donat', 'feu', 'era', 'als', 'amb', 'el', 'oi', 'després', 'sabem', 'ta', \"s'han\", 'semblants', 'em', 'bastant', 'o', 'una', 'ambdós', 'uns', 'alguna', 'sap', 'sota', 'mateixos', 'estava', 'ton', 'durant', 'vostre', 'jo', 'erem', 'ho', 'éreu', 'aleshores', 'tene', 'estan', 'allí', \"d'unes\", 'seva', 'ells', 'són', 'faig', 'aquelles', 'cadascunes', 'quines', 'esteu', 'iguals', 'es', 'poden', 'eren', 'cadascuna', 'dintre', 'eh', 'cada', 'eres', 'fora', 'tampoc', 'ser', 'podem', 'un', 'aquells', 'ha', 'moltes', 'nosaltres', 'qui', 'nostres', 'aquella', 'tons', 'abans', 'unes', 'pels', 'per', 'del', 'perquè', 'meves', 'podeu', 'no', 'allò', 'elles', 'on', 'conseguim', 'teu', 'sons', 'tinc', 'què', 'mateix', 'conseguir', 'molt'}\n"
          ]
        },
        {
          "output_type": "stream",
          "name": "stderr",
          "text": [
            "[nltk_data] Downloading package stopwords to /root/nltk_data...\n",
            "[nltk_data]   Package stopwords is already up-to-date!\n"
          ]
        }
      ],
      "source": [
        "#Carga de la libreria y modelo\n",
        "# para el idioma.\n",
        "!python -m spacy download ca_core_news_sm\n",
        "import spacy\n",
        "\n",
        "nlp = spacy.load('ca_core_news_sm')\n",
        "import nltk\n",
        "nltk.download('stopwords')\n",
        "#Visualización de las \"stopwords\"\n",
        "\n",
        "from nltk.corpus import stopwords\n",
        "\n",
        "stops = set(stopwords.words('catalan'))\n",
        "print(stops)"
      ]
    },
    {
      "cell_type": "code",
      "source": [
        "nltk.download('punkt')"
      ],
      "metadata": {
        "colab": {
          "base_uri": "https://localhost:8080/"
        },
        "id": "9RtDmSYvLTPU",
        "outputId": "9d498397-2955-467a-9e95-391deb394c03"
      },
      "execution_count": 19,
      "outputs": [
        {
          "output_type": "stream",
          "name": "stderr",
          "text": [
            "[nltk_data] Downloading package punkt to /root/nltk_data...\n",
            "[nltk_data]   Package punkt is already up-to-date!\n"
          ]
        },
        {
          "output_type": "execute_result",
          "data": {
            "text/plain": [
              "True"
            ]
          },
          "metadata": {},
          "execution_count": 19
        }
      ]
    },
    {
      "cell_type": "code",
      "source": [
        "#Importación de los módulos necesarios\n",
        "from nltk.tokenize import word_tokenize, sent_tokenize\n",
        "from nltk.tag import pos_tag\n",
        "from nltk.chunk import ne_chunk"
      ],
      "metadata": {
        "id": "SwdGvYROOzaq"
      },
      "execution_count": 20,
      "outputs": []
    },
    {
      "cell_type": "code",
      "source": [
        "# Introducción del texto a resumir\n",
        "text = \"\"\" L'Institut Català de Tecnologia ha informat de l'augment del nombre de persones que utilitzen Internet per comprar productes. \n",
        "És evident que el mitjà informàtic permet estalviar temps en moltes activitats diàries, a més d'evitar desplaçaments. \n",
        "D'una banda, són moltes les activitats que es poden organitzar virtualment: des de fer una senzilla compra fins a realitzar complicades transferències bancàries, passant per reservar un bitllet d'avió o comprar una entrada per al teatre. \n",
        "D'altra banda, més enllà de la comoditat evident que suposa aquest avenç tecnològic i l'estalvi de temps, desplaçaments i diners, no hem d'oblidar que al cap i a la fi un ordinador està substituint el treball que hauria de fer una o diverses persones. \n",
        "En conseqüència, aquest canvi d'hàbits ens acabarà fent perdre el plaer del dia en família que ens proporciona anar a fer la compra el dissabte o poder parlar amb la noia de l'agència de viatges, que sempre ens recomana la millor opció. \n",
        "Per tant, considero que si aquest recurs no es gestiona de forma adequada, podria portar a una notable disminució en les relacions humanes directes. \n",
        "Joan García Petit. \n",
        "Tàrrega\"\"\"\n",
        "palabras = word_tokenize(text)\n",
        "frases = sent_tokenize(text)"
      ],
      "metadata": {
        "id": "ZzlVXHFjO_b6"
      },
      "execution_count": 22,
      "outputs": []
    },
    {
      "cell_type": "code",
      "source": [
        "print(palabras)"
      ],
      "metadata": {
        "colab": {
          "base_uri": "https://localhost:8080/"
        },
        "id": "P2CgR_oxPdzy",
        "outputId": "552fa303-83be-4f4f-9e74-492c2690c58a"
      },
      "execution_count": 23,
      "outputs": [
        {
          "output_type": "stream",
          "name": "stdout",
          "text": [
            "[\"L'Institut\", 'Català', 'de', 'Tecnologia', 'ha', 'informat', 'de', \"l'augment\", 'del', 'nombre', 'de', 'persones', 'que', 'utilitzen', 'Internet', 'per', 'comprar', 'productes', '.', 'És', 'evident', 'que', 'el', 'mitjà', 'informàtic', 'permet', 'estalviar', 'temps', 'en', 'moltes', 'activitats', 'diàries', ',', 'a', 'més', \"d'evitar\", 'desplaçaments', '.', \"D'una\", 'banda', ',', 'són', 'moltes', 'les', 'activitats', 'que', 'es', 'poden', 'organitzar', 'virtualment', ':', 'des', 'de', 'fer', 'una', 'senzilla', 'compra', 'fins', 'a', 'realitzar', 'complicades', 'transferències', 'bancàries', ',', 'passant', 'per', 'reservar', 'un', 'bitllet', \"d'avió\", 'o', 'comprar', 'una', 'entrada', 'per', 'al', 'teatre', '.', \"D'altra\", 'banda', ',', 'més', 'enllà', 'de', 'la', 'comoditat', 'evident', 'que', 'suposa', 'aquest', 'avenç', 'tecnològic', 'i', \"l'estalvi\", 'de', 'temps', ',', 'desplaçaments', 'i', 'diners', ',', 'no', 'hem', \"d'oblidar\", 'que', 'al', 'cap', 'i', 'a', 'la', 'fi', 'un', 'ordinador', 'està', 'substituint', 'el', 'treball', 'que', 'hauria', 'de', 'fer', 'una', 'o', 'diverses', 'persones', '.', 'En', 'conseqüència', ',', 'aquest', 'canvi', \"d'hàbits\", 'ens', 'acabarà', 'fent', 'perdre', 'el', 'plaer', 'del', 'dia', 'en', 'família', 'que', 'ens', 'proporciona', 'anar', 'a', 'fer', 'la', 'compra', 'el', 'dissabte', 'o', 'poder', 'parlar', 'amb', 'la', 'noia', 'de', \"l'agència\", 'de', 'viatges', ',', 'que', 'sempre', 'ens', 'recomana', 'la', 'millor', 'opció', '.', 'Per', 'tant', ',', 'considero', 'que', 'si', 'aquest', 'recurs', 'no', 'es', 'gestiona', 'de', 'forma', 'adequada', ',', 'podria', 'portar', 'a', 'una', 'notable', 'disminució', 'en', 'les', 'relacions', 'humanes', 'directes', '.', 'Joan', 'García', 'Petit', '.', 'Tàrrega']\n"
          ]
        }
      ]
    },
    {
      "cell_type": "code",
      "source": [
        "# Crear una lista para almacenar la frecuencia de cada palabra\n",
        "# La palabra no debe pertencer al conjunto de stopwords\n",
        "freqTabla = {}\n",
        "for word in palabras:\n",
        "    word = word.lower()\n",
        "    if word not in stops:\n",
        "        if word in freqTabla:\n",
        "            freqTabla[word] += 1\n",
        "        else:\n",
        "            freqTabla[word] = 1"
      ],
      "metadata": {
        "id": "M769gHFHP4i7"
      },
      "execution_count": 24,
      "outputs": []
    },
    {
      "cell_type": "code",
      "source": [
        "# Crear una lista para almacenar la puntuación de cada oración\n",
        "fraseValor = {}\n",
        "for sentence in frases:\n",
        "    for word, freq in freqTabla.items():\n",
        "        if word in sentence.lower():\n",
        "            if sentence in fraseValor:\n",
        "                fraseValor[sentence] += freq\n",
        "            else:\n",
        "                fraseValor[sentence] = freq"
      ],
      "metadata": {
        "id": "Lzn4b3s4S6HZ"
      },
      "execution_count": 26,
      "outputs": []
    },
    {
      "cell_type": "code",
      "source": [
        "#relevant_sentences = []\n",
        "#for entity in relevant_entities:\n",
        "    #for sentence in sentences:\n",
        "        #if entity in sentence and sentence not in relevant_sentences:\n",
        "            #relevant_sentences.append(sentence)"
      ],
      "metadata": {
        "id": "PjyrXWlgTwLs"
      },
      "execution_count": null,
      "outputs": []
    },
    {
      "cell_type": "code",
      "source": [
        "# Presenta problemas con apóstrofes.\n",
        "# \"'\" correcto pero \"’\" no lo procesa bien.\n",
        "doc = nlp(text)\n",
        "relevantes_entidades = []\n",
        "for ent in doc.ents:\n",
        "    if ent.label_ == 'PER':\n",
        "        relevantes_entidades.append(ent.text)"
      ],
      "metadata": {
        "id": "b6BeJVpkTAfU"
      },
      "execution_count": 27,
      "outputs": []
    },
    {
      "cell_type": "code",
      "source": [
        "print(relevantes_entidades)"
      ],
      "metadata": {
        "colab": {
          "base_uri": "https://localhost:8080/"
        },
        "id": "0dl2j0YmUeFP",
        "outputId": "256db391-c390-47b9-d009-69f76c925099"
      },
      "execution_count": 28,
      "outputs": [
        {
          "output_type": "stream",
          "name": "stdout",
          "text": [
            "['Joan García Petit']\n"
          ]
        }
      ]
    },
    {
      "cell_type": "code",
      "source": [
        "# Ordenar las oraciones por su posición en el texto\n",
        "frases_orden = sorted(fraseValor.items(), key=lambda x: x[0])"
      ],
      "metadata": {
        "id": "Rkzxd6W0X2qa"
      },
      "execution_count": 29,
      "outputs": []
    },
    {
      "cell_type": "code",
      "source": [
        "# Calcular la puntuación promedio de las oraciones\n",
        "sumaValores = 0\n",
        "for sentence in fraseValor:\n",
        "    sumaValores += fraseValor[sentence]\n",
        "    print(\"Puntuación: '{}': {}\".format(sentence, fraseValor[sentence]))\n",
        "average = int(sumaValores / len(fraseValor))\n",
        "print(\"Puntuación promedio de las oraciones: {}\".format(average))"
      ],
      "metadata": {
        "id": "xLs9X5e4X9ah",
        "colab": {
          "base_uri": "https://localhost:8080/"
        },
        "outputId": "a4bff2ae-d007-43d9-92e3-0223f84b9bdf"
      },
      "execution_count": 30,
      "outputs": [
        {
          "output_type": "stream",
          "name": "stdout",
          "text": [
            "Puntuación: ' L'Institut Català de Tecnologia ha informat de l'augment del nombre de persones que utilitzen Internet per comprar productes.': 23\n",
            "Puntuación: 'És evident que el mitjà informàtic permet estalviar temps en moltes activitats diàries, a més d'evitar desplaçaments.': 31\n",
            "Puntuación: 'D'una banda, són moltes les activitats que es poden organitzar virtualment: des de fer una senzilla compra fins a realitzar complicades transferències bancàries, passant per reservar un bitllet d'avió o comprar una entrada per al teatre.': 39\n",
            "Puntuación: 'D'altra banda, més enllà de la comoditat evident que suposa aquest avenç tecnològic i l'estalvi de temps, desplaçaments i diners, no hem d'oblidar que al cap i a la fi un ordinador està substituint el treball que hauria de fer una o diverses persones.': 42\n",
            "Puntuación: 'En conseqüència, aquest canvi d'hàbits ens acabarà fent perdre el plaer del dia en família que ens proporciona anar a fer la compra el dissabte o poder parlar amb la noia de l'agència de viatges, que sempre ens recomana la millor opció.': 38\n",
            "Puntuación: 'Per tant, considero que si aquest recurs no es gestiona de forma adequada, podria portar a una notable disminució en les relacions humanes directes.': 29\n",
            "Puntuación: 'Joan García Petit.': 10\n",
            "Puntuación: 'Tàrrega': 1\n",
            "Puntuación promedio de las oraciones: 26\n"
          ]
        }
      ]
    },
    {
      "cell_type": "code",
      "source": [
        "# Crear una lista para almacenar las oraciones seleccionadas para el resumen\n",
        "# Limitar el resumen a un número determinado de líneas\n",
        "resumen = []\n",
        "count = 0\n",
        "for sentence in frases:\n",
        "    if sentence in fraseValor and fraseValor[sentence] >= average:\n",
        "        resumen.append(sentence)\n",
        "        count += 1\n",
        "        if count == 3:  # Detener el bucle después de agregar 5 oraciones al resumen\n",
        "            break"
      ],
      "metadata": {
        "id": "cTtkotrhX_rt"
      },
      "execution_count": 31,
      "outputs": []
    },
    {
      "cell_type": "code",
      "source": [
        "# Crear una lista para almacenar las oraciones con entidades nombradas\n",
        "# y relevantes que no están en la lista de oraciones seleccionadas\n",
        "# Evitar repeticiones de frases\n",
        "relevantes_frases = []\n",
        "for entity in relevantes_entidades:\n",
        "    for sentence in frases:\n",
        "        if entity in sentence and sentence not in relevantes_frases and sentence not in resumen:\n",
        "            relevantes_frases.append(sentence)"
      ],
      "metadata": {
        "id": "ymGb1LetpJIW"
      },
      "execution_count": 33,
      "outputs": []
    },
    {
      "cell_type": "code",
      "source": [
        "# Unir las oraciones seleccionadas en un solo string para obtener el resumen completo\n",
        "resumen = \" \".join(resumen + relevantes_frases)\n",
        "\n",
        "# Imprimir el resumen por líneas\n",
        "for line in resumen.splitlines():\n",
        "    print(line)"
      ],
      "metadata": {
        "colab": {
          "base_uri": "https://localhost:8080/"
        },
        "id": "U9pK0rR_YGDm",
        "outputId": "76275032-cb0b-45b4-f973-d67a7dc73d5a"
      },
      "execution_count": 34,
      "outputs": [
        {
          "output_type": "stream",
          "name": "stdout",
          "text": [
            "És evident que el mitjà informàtic permet estalviar temps en moltes activitats diàries, a més d'evitar desplaçaments. D'una banda, són moltes les activitats que es poden organitzar virtualment: des de fer una senzilla compra fins a realitzar complicades transferències bancàries, passant per reservar un bitllet d'avió o comprar una entrada per al teatre. D'altra banda, més enllà de la comoditat evident que suposa aquest avenç tecnològic i l'estalvi de temps, desplaçaments i diners, no hem d'oblidar que al cap i a la fi un ordinador està substituint el treball que hauria de fer una o diverses persones. Joan García Petit.\n"
          ]
        }
      ]
    }
  ]
}